{
 "cells": [
  {
   "cell_type": "code",
   "execution_count": 5,
   "id": "ccbff96b",
   "metadata": {},
   "outputs": [
    {
     "name": "stdout",
     "output_type": "stream",
     "text": [
      "Enter Your Name In Upper Caseghr\n",
      "ghr\n",
      "Enter Your Name In Lower Casetgy\n",
      "tgy\n"
     ]
    }
   ],
   "source": [
    "stR = input(\"Enter Your Name In Upper Case\")\n",
    "print(stR.lower())\n",
    "stRI = input(\"Enter Your Name In Lower Case\")\n",
    "print(stRI.upper())\n"
   ]
  },
  {
   "cell_type": "code",
   "execution_count": 23,
   "id": "cb80889c",
   "metadata": {},
   "outputs": [
    {
     "name": "stdout",
     "output_type": "stream",
     "text": [
      "Enter Your NameJOYCE\n",
      "How Do You Want Your Output To Be Printed?(U or L) u\n",
      "JOYCE\n",
      "Your Name Has been Converted to Upper Case\n"
     ]
    }
   ],
   "source": [
    "stR = input(\"Enter Your Name\")\n",
    "final = input(\"How Do You Want Your Output To Be Printed?(U or L) \") \n",
    "final = final.upper()\n",
    "if final == \"L\":\n",
    "    print(stR.lower())\n",
    "    print(\"Your Name Has been Converted to Lower Case\")\n",
    "elif final == \"U\":\n",
    "    print(stR.upper())\n",
    "    print(\"Your Name Has been Converted to Upper Case\")\n",
    "else:\n",
    "    print(\"Invalid\")\n"
   ]
  },
  {
   "cell_type": "code",
   "execution_count": 21,
   "id": "d31307db",
   "metadata": {},
   "outputs": [
    {
     "name": "stdout",
     "output_type": "stream",
     "text": [
      "Enter Your NameJOYCE\n",
      "joyce\n",
      "Your Name Has been Converted to Lower Case\n"
     ]
    }
   ],
   "source": [
    "stR = input(\"Enter Your Name\") \n",
    "if stR.isupper():\n",
    "    print(stR.lower())\n",
    "    print(\"Your Name Has been Converted to Lower Case\")\n",
    "else:\n",
    "    print(stR.upper())\n",
    "    print(\"Your Name Has been Converted to Upper Case\")\n"
   ]
  },
  {
   "cell_type": "code",
   "execution_count": 35,
   "id": "76ccf68f",
   "metadata": {},
   "outputs": [
    {
     "name": "stdout",
     "output_type": "stream",
     "text": [
      "Enter Your stringfather frank fried five fresh fishes for five friends in finlandf\n",
      "ather frank fried five fresh fishes for five friends in finland\n",
      "65\n",
      "63\n"
     ]
    }
   ],
   "source": [
    "you = input(\"Enter Your string\")\n",
    "newyou = you.strip(\"f\")\n",
    "print(newyou)\n",
    "print(len(you))\n",
    "print(len(newyou))"
   ]
  },
  {
   "cell_type": "code",
   "execution_count": 37,
   "id": "ac1f54a4",
   "metadata": {},
   "outputs": [
    {
     "name": "stdout",
     "output_type": "stream",
     "text": [
      "Enter Your stringfather fries fish\n",
      "ather fries fish\n",
      "17\n",
      "16\n"
     ]
    }
   ],
   "source": [
    "you = input(\"Enter Your string\")\n",
    "newyou = you.lstrip(\"f\")\n",
    "print(newyou)\n",
    "print(len(you))\n",
    "print(len(newyou))"
   ]
  },
  {
   "cell_type": "code",
   "execution_count": 39,
   "id": "3542aba6",
   "metadata": {},
   "outputs": [
    {
     "name": "stdout",
     "output_type": "stream",
     "text": [
      "Enter Your stringchristmas\n",
      "positive\n"
     ]
    }
   ],
   "source": [
    "you = input(\"Enter Your string\")\n",
    "if you.endswith(\"mas\"):\n",
    "    print(\"true\")\n",
    "else:\n",
    "    print(\"false\")\n"
   ]
  },
  {
   "cell_type": "code",
   "execution_count": 50,
   "id": "85ba0a7c",
   "metadata": {},
   "outputs": [
    {
     "name": "stdout",
     "output_type": "stream",
     "text": [
      "Enter Your stringThe ways in which you influenced my entire personality may seem a bit unorthodox, but they have helped greatly in building a better me .I remember when I was younger and as soon as you where done in the office, my siblings and i would rush as quickly as possible to you and you would give everyone ‘chin chin’, I recall the one time i did not bother to thank you . not because i wasn’t grateful but probably because i wanted to hurry and eat my ‘chin chin’, or for some other reason I don’t remember, I was practically already out the door when you called me back and gave me a whole talk on how I should learn to thank people regardless of how small the deed. Back then I probably didn’t care but I wanted to continue receiving ‘chin chin’ ,so I made a mental note to always recite the same bunch of prayers for you after receiving my ‘chin chin’ and it worked !!, I always received my share of ‘chin chin’  , so I continued with this new tactic , and you might not have known this , I don’t even think I realised this until recently , but that attitude of always showing my gratitude and not just being silently grateful stuck , and I am commended regularly because of this trait, so I am thankful to you for this trait, and so many others  that you unconsciously instilled in me . I always look forward to the first day of the year so I can gain more and more from you, it seems as though you are one of the major influencers of many of my good decisions, Although I haven’t had the need to make a lot of life altering decisions, but I’m confident your impact will eventually help me make the right choice. You are truly a blessing, and i pray that God will continue to work with and through you.      I want to wish you a very  blessed year to come , I hope to see more of you , and gain a lot more from you this coming year , thank you for all you have done for me .                                                                                                                                                  Tewogbola \n",
      "Word not found\n"
     ]
    }
   ],
   "source": [
    "you = input(\"Enter Your string\")\n",
    "newyou =  you.find(\"zama\")\n",
    "if newyou == -1 :\n",
    "    print(\"Word not found\")\n",
    "else:\n",
    "    print(newyou)\n"
   ]
  },
  {
   "cell_type": "code",
   "execution_count": 52,
   "id": "44a4715c",
   "metadata": {},
   "outputs": [
    {
     "name": "stdout",
     "output_type": "stream",
     "text": [
      "Enter Your stringtewogbola is a girl\n",
      "olaogbola is a girl\n"
     ]
    }
   ],
   "source": [
    "you = input(\"Enter Your string\")\n",
    "newyou = you.replace(\"tew\", \"ola\")\n",
    "print(newyou)"
   ]
  },
  {
   "cell_type": "code",
   "execution_count": 97,
   "id": "6ce99e61",
   "metadata": {},
   "outputs": [
    {
     "name": "stdout",
     "output_type": "stream",
     "text": [
      "Enter Your stringfather.frank.fish\n",
      "['father', 'frank', 'fish']\n"
     ]
    }
   ],
   "source": [
    "you = input(\"Enter Your string\")\n",
    "newyou = you.split(\".\")\n",
    "print(newyou)"
   ]
  },
  {
   "cell_type": "code",
   "execution_count": 58,
   "id": "04e662a4",
   "metadata": {},
   "outputs": [
    {
     "name": "stdout",
     "output_type": "stream",
     "text": [
      "Enter Your stringfried rice\n",
      "['fried', 'rice'] .\n"
     ]
    }
   ],
   "source": [
    "you = input(\"Enter Your string\")\n",
    "newyou = you.split()\n",
    "print((newyou))"
   ]
  },
  {
   "cell_type": "code",
   "execution_count": 92,
   "id": "e23682e6",
   "metadata": {},
   "outputs": [
    {
     "name": "stdout",
     "output_type": "stream",
     "text": [
      "Enter Your string: Tee Tit tat\n",
      "tee tit tat \n"
     ]
    }
   ],
   "source": [
    "neweryou = \"\"\n",
    "you = input(\"Enter Your string: \")\n",
    "newyou = you.split()\n",
    "for item in newyou:\n",
    "    final =  item.replace(\"T\", \"t\")\n",
    "    neweryou += final + \" \" \n",
    "print(neweryou)"
   ]
  },
  {
   "cell_type": "markdown",
   "id": "2ef4880e",
   "metadata": {},
   "source": [
    "Write a program that gets strings containing a person’s first and last name as separate values, and then displays their “initials”, “name in address book”, and “username”. For example, if the user enters a first name of “John” and a last name of “Smith”, the program should display “J.S.”, “John SMITH”, and “jsmith”."
   ]
  },
  {
   "cell_type": "code",
   "execution_count": 91,
   "id": "32cf607e",
   "metadata": {
    "scrolled": true
   },
   "outputs": [
    {
     "name": "stdout",
     "output_type": "stream",
     "text": [
      "Enter Your First Name Please john\n",
      "Enter Your Last Name Please smith\n",
      "J.S\n",
      "John SMITH\n",
      "Jsmith\n"
     ]
    }
   ],
   "source": [
    "FName = input(\"Enter Your First Name Please \")\n",
    "LName = input(\"Enter Your Last Name Please \")\n",
    "print(FName[0].upper() +\".\" + LName[0].upper())\n",
    "print((FName.title() +\" \"+ LName.upper()))\n",
    "print(FName[0].upper()+ LName.lower())"
   ]
  },
  {
   "cell_type": "markdown",
   "id": "7f961b12",
   "metadata": {},
   "source": [
    " Date Printer\n",
    "Write a program that reads a string from the user containing a date in the form mm/dd/yyyy. It should print the date in the format March 12, 2018."
   ]
  },
  {
   "cell_type": "code",
   "execution_count": 99,
   "id": "6c490cdd",
   "metadata": {},
   "outputs": [
    {
     "name": "stdout",
     "output_type": "stream",
     "text": [
      "Please Enter The Date(mm/dd/yyyy) 12/22/2021\n",
      "['12', '22', '2021']\n",
      " 12222021\n"
     ]
    }
   ],
   "source": [
    "date = input(\"Please Enter The Date(mm/dd/yyyy) \")\n",
    "rdate = \" \"\n",
    "new = date.split('/')\n",
    "for item in new:\n",
    "    rdate += item \n",
    "print(new)\n",
    "print(rdate)"
   ]
  },
  {
   "cell_type": "code",
   "execution_count": null,
   "id": "1bcb73f0",
   "metadata": {},
   "outputs": [],
   "source": []
  }
 ],
 "metadata": {
  "kernelspec": {
   "display_name": "Python 3",
   "language": "python",
   "name": "python3"
  },
  "language_info": {
   "codemirror_mode": {
    "name": "ipython",
    "version": 3
   },
   "file_extension": ".py",
   "mimetype": "text/x-python",
   "name": "python",
   "nbconvert_exporter": "python",
   "pygments_lexer": "ipython3",
   "version": "3.8.8"
  }
 },
 "nbformat": 4,
 "nbformat_minor": 5
}
